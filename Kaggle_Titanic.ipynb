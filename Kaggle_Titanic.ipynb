{
  "nbformat": 4,
  "nbformat_minor": 0,
  "metadata": {
    "colab": {
      "name": "Kaggle Titanic.ipynb",
      "provenance": [],
      "collapsed_sections": [],
      "authorship_tag": "ABX9TyMc1Gl2pE76a5inordpGldn",
      "include_colab_link": true
    },
    "kernelspec": {
      "name": "python3",
      "display_name": "Python 3"
    }
  },
  "cells": [
    {
      "cell_type": "markdown",
      "metadata": {
        "id": "view-in-github",
        "colab_type": "text"
      },
      "source": [
        "<a href=\"https://colab.research.google.com/github/shuklashwin/titanic/blob/master/Kaggle_Titanic.ipynb\" target=\"_parent\"><img src=\"https://colab.research.google.com/assets/colab-badge.svg\" alt=\"Open In Colab\"/></a>"
      ]
    },
    {
      "cell_type": "code",
      "metadata": {
        "id": "16nv3tIfl46s",
        "colab_type": "code",
        "colab": {}
      },
      "source": [
        "import pandas as pd\n",
        "from zipfile import ZipFile"
      ],
      "execution_count": 0,
      "outputs": []
    },
    {
      "cell_type": "code",
      "metadata": {
        "id": "RiALAjZXyCZT",
        "colab_type": "code",
        "colab": {}
      },
      "source": [
        "file_name = '/content/titanic-machine-learning-from-disaster.zip'"
      ],
      "execution_count": 0,
      "outputs": []
    },
    {
      "cell_type": "code",
      "metadata": {
        "id": "QJsjUrYWxeuf",
        "colab_type": "code",
        "colab": {}
      },
      "source": [
        "with ZipFile(file_name, 'r') as zip:\n",
        "  # zip.printdir()\n",
        "  zip.extractall()"
      ],
      "execution_count": 0,
      "outputs": []
    },
    {
      "cell_type": "code",
      "metadata": {
        "id": "j96E_sQ3yTDa",
        "colab_type": "code",
        "colab": {}
      },
      "source": [
        "train_data = pd.read_csv('/content/train.csv')\n",
        "test_data = pd.read_csv('/content/test.csv')\n",
        "all_data = [train_data, test_data]"
      ],
      "execution_count": 0,
      "outputs": []
    },
    {
      "cell_type": "code",
      "metadata": {
        "id": "TfGcI0oky4wt",
        "colab_type": "code",
        "outputId": "14c723c5-8438-465e-c999-9683a1f2cd72",
        "colab": {
          "base_uri": "https://localhost:8080/",
          "height": 928
        }
      },
      "source": [
        "train_data"
      ],
      "execution_count": 0,
      "outputs": [
        {
          "output_type": "execute_result",
          "data": {
            "text/html": [
              "<div>\n",
              "<style scoped>\n",
              "    .dataframe tbody tr th:only-of-type {\n",
              "        vertical-align: middle;\n",
              "    }\n",
              "\n",
              "    .dataframe tbody tr th {\n",
              "        vertical-align: top;\n",
              "    }\n",
              "\n",
              "    .dataframe thead th {\n",
              "        text-align: right;\n",
              "    }\n",
              "</style>\n",
              "<table border=\"1\" class=\"dataframe\">\n",
              "  <thead>\n",
              "    <tr style=\"text-align: right;\">\n",
              "      <th></th>\n",
              "      <th>PassengerId</th>\n",
              "      <th>Survived</th>\n",
              "      <th>Pclass</th>\n",
              "      <th>Name</th>\n",
              "      <th>Sex</th>\n",
              "      <th>Age</th>\n",
              "      <th>SibSp</th>\n",
              "      <th>Parch</th>\n",
              "      <th>Ticket</th>\n",
              "      <th>Fare</th>\n",
              "      <th>Cabin</th>\n",
              "      <th>Embarked</th>\n",
              "    </tr>\n",
              "  </thead>\n",
              "  <tbody>\n",
              "    <tr>\n",
              "      <th>0</th>\n",
              "      <td>1</td>\n",
              "      <td>0</td>\n",
              "      <td>3</td>\n",
              "      <td>Braund, Mr. Owen Harris</td>\n",
              "      <td>male</td>\n",
              "      <td>22.0</td>\n",
              "      <td>1</td>\n",
              "      <td>0</td>\n",
              "      <td>A/5 21171</td>\n",
              "      <td>7.2500</td>\n",
              "      <td>NaN</td>\n",
              "      <td>S</td>\n",
              "    </tr>\n",
              "    <tr>\n",
              "      <th>1</th>\n",
              "      <td>2</td>\n",
              "      <td>1</td>\n",
              "      <td>1</td>\n",
              "      <td>Cumings, Mrs. John Bradley (Florence Briggs Th...</td>\n",
              "      <td>female</td>\n",
              "      <td>38.0</td>\n",
              "      <td>1</td>\n",
              "      <td>0</td>\n",
              "      <td>PC 17599</td>\n",
              "      <td>71.2833</td>\n",
              "      <td>C85</td>\n",
              "      <td>C</td>\n",
              "    </tr>\n",
              "    <tr>\n",
              "      <th>2</th>\n",
              "      <td>3</td>\n",
              "      <td>1</td>\n",
              "      <td>3</td>\n",
              "      <td>Heikkinen, Miss. Laina</td>\n",
              "      <td>female</td>\n",
              "      <td>26.0</td>\n",
              "      <td>0</td>\n",
              "      <td>0</td>\n",
              "      <td>STON/O2. 3101282</td>\n",
              "      <td>7.9250</td>\n",
              "      <td>NaN</td>\n",
              "      <td>S</td>\n",
              "    </tr>\n",
              "    <tr>\n",
              "      <th>3</th>\n",
              "      <td>4</td>\n",
              "      <td>1</td>\n",
              "      <td>1</td>\n",
              "      <td>Futrelle, Mrs. Jacques Heath (Lily May Peel)</td>\n",
              "      <td>female</td>\n",
              "      <td>35.0</td>\n",
              "      <td>1</td>\n",
              "      <td>0</td>\n",
              "      <td>113803</td>\n",
              "      <td>53.1000</td>\n",
              "      <td>C123</td>\n",
              "      <td>S</td>\n",
              "    </tr>\n",
              "    <tr>\n",
              "      <th>4</th>\n",
              "      <td>5</td>\n",
              "      <td>0</td>\n",
              "      <td>3</td>\n",
              "      <td>Allen, Mr. William Henry</td>\n",
              "      <td>male</td>\n",
              "      <td>35.0</td>\n",
              "      <td>0</td>\n",
              "      <td>0</td>\n",
              "      <td>373450</td>\n",
              "      <td>8.0500</td>\n",
              "      <td>NaN</td>\n",
              "      <td>S</td>\n",
              "    </tr>\n",
              "    <tr>\n",
              "      <th>...</th>\n",
              "      <td>...</td>\n",
              "      <td>...</td>\n",
              "      <td>...</td>\n",
              "      <td>...</td>\n",
              "      <td>...</td>\n",
              "      <td>...</td>\n",
              "      <td>...</td>\n",
              "      <td>...</td>\n",
              "      <td>...</td>\n",
              "      <td>...</td>\n",
              "      <td>...</td>\n",
              "      <td>...</td>\n",
              "    </tr>\n",
              "    <tr>\n",
              "      <th>886</th>\n",
              "      <td>887</td>\n",
              "      <td>0</td>\n",
              "      <td>2</td>\n",
              "      <td>Montvila, Rev. Juozas</td>\n",
              "      <td>male</td>\n",
              "      <td>27.0</td>\n",
              "      <td>0</td>\n",
              "      <td>0</td>\n",
              "      <td>211536</td>\n",
              "      <td>13.0000</td>\n",
              "      <td>NaN</td>\n",
              "      <td>S</td>\n",
              "    </tr>\n",
              "    <tr>\n",
              "      <th>887</th>\n",
              "      <td>888</td>\n",
              "      <td>1</td>\n",
              "      <td>1</td>\n",
              "      <td>Graham, Miss. Margaret Edith</td>\n",
              "      <td>female</td>\n",
              "      <td>19.0</td>\n",
              "      <td>0</td>\n",
              "      <td>0</td>\n",
              "      <td>112053</td>\n",
              "      <td>30.0000</td>\n",
              "      <td>B42</td>\n",
              "      <td>S</td>\n",
              "    </tr>\n",
              "    <tr>\n",
              "      <th>888</th>\n",
              "      <td>889</td>\n",
              "      <td>0</td>\n",
              "      <td>3</td>\n",
              "      <td>Johnston, Miss. Catherine Helen \"Carrie\"</td>\n",
              "      <td>female</td>\n",
              "      <td>NaN</td>\n",
              "      <td>1</td>\n",
              "      <td>2</td>\n",
              "      <td>W./C. 6607</td>\n",
              "      <td>23.4500</td>\n",
              "      <td>NaN</td>\n",
              "      <td>S</td>\n",
              "    </tr>\n",
              "    <tr>\n",
              "      <th>889</th>\n",
              "      <td>890</td>\n",
              "      <td>1</td>\n",
              "      <td>1</td>\n",
              "      <td>Behr, Mr. Karl Howell</td>\n",
              "      <td>male</td>\n",
              "      <td>26.0</td>\n",
              "      <td>0</td>\n",
              "      <td>0</td>\n",
              "      <td>111369</td>\n",
              "      <td>30.0000</td>\n",
              "      <td>C148</td>\n",
              "      <td>C</td>\n",
              "    </tr>\n",
              "    <tr>\n",
              "      <th>890</th>\n",
              "      <td>891</td>\n",
              "      <td>0</td>\n",
              "      <td>3</td>\n",
              "      <td>Dooley, Mr. Patrick</td>\n",
              "      <td>male</td>\n",
              "      <td>32.0</td>\n",
              "      <td>0</td>\n",
              "      <td>0</td>\n",
              "      <td>370376</td>\n",
              "      <td>7.7500</td>\n",
              "      <td>NaN</td>\n",
              "      <td>Q</td>\n",
              "    </tr>\n",
              "  </tbody>\n",
              "</table>\n",
              "<p>891 rows × 12 columns</p>\n",
              "</div>"
            ],
            "text/plain": [
              "     PassengerId  Survived  Pclass  ...     Fare Cabin  Embarked\n",
              "0              1         0       3  ...   7.2500   NaN         S\n",
              "1              2         1       1  ...  71.2833   C85         C\n",
              "2              3         1       3  ...   7.9250   NaN         S\n",
              "3              4         1       1  ...  53.1000  C123         S\n",
              "4              5         0       3  ...   8.0500   NaN         S\n",
              "..           ...       ...     ...  ...      ...   ...       ...\n",
              "886          887         0       2  ...  13.0000   NaN         S\n",
              "887          888         1       1  ...  30.0000   B42         S\n",
              "888          889         0       3  ...  23.4500   NaN         S\n",
              "889          890         1       1  ...  30.0000  C148         C\n",
              "890          891         0       3  ...   7.7500   NaN         Q\n",
              "\n",
              "[891 rows x 12 columns]"
            ]
          },
          "metadata": {
            "tags": []
          },
          "execution_count": 115
        }
      ]
    },
    {
      "cell_type": "code",
      "metadata": {
        "id": "eRZb-l1Sy8Ih",
        "colab_type": "code",
        "outputId": "0bd13663-b224-4661-ab9b-89e79dc2b6e6",
        "colab": {
          "base_uri": "https://localhost:8080/",
          "height": 69
        }
      },
      "source": [
        "train_data.columns"
      ],
      "execution_count": 0,
      "outputs": [
        {
          "output_type": "execute_result",
          "data": {
            "text/plain": [
              "Index(['PassengerId', 'Survived', 'Pclass', 'Name', 'Sex', 'Age', 'SibSp',\n",
              "       'Parch', 'Ticket', 'Fare', 'Cabin', 'Embarked'],\n",
              "      dtype='object')"
            ]
          },
          "metadata": {
            "tags": []
          },
          "execution_count": 116
        }
      ]
    },
    {
      "cell_type": "code",
      "metadata": {
        "id": "fUruSM2IXeUe",
        "colab_type": "code",
        "outputId": "ad080651-2ea9-4115-beca-e210f95a7f02",
        "colab": {
          "base_uri": "https://localhost:8080/",
          "height": 35
        }
      },
      "source": [
        "train_data.shape"
      ],
      "execution_count": 0,
      "outputs": [
        {
          "output_type": "execute_result",
          "data": {
            "text/plain": [
              "(891, 12)"
            ]
          },
          "metadata": {
            "tags": []
          },
          "execution_count": 117
        }
      ]
    },
    {
      "cell_type": "markdown",
      "metadata": {
        "id": "hUa9eHH1fVrz",
        "colab_type": "text"
      },
      "source": [
        "Feature 1: How many people survived based on passenger class?"
      ]
    },
    {
      "cell_type": "code",
      "metadata": {
        "id": "7bvwsvDHXgL6",
        "colab_type": "code",
        "outputId": "6f2c8a25-3cd5-479d-c84c-ee6f1c0c80a6",
        "colab": {
          "base_uri": "https://localhost:8080/",
          "height": 86
        }
      },
      "source": [
        "print( train_data[['Pclass','Survived']].groupby([\"Pclass\"], as_index=False).mean())"
      ],
      "execution_count": 0,
      "outputs": [
        {
          "output_type": "stream",
          "text": [
            "   Pclass  Survived\n",
            "0       1  0.629630\n",
            "1       2  0.472826\n",
            "2       3  0.242363\n"
          ],
          "name": "stdout"
        }
      ]
    },
    {
      "cell_type": "markdown",
      "metadata": {
        "id": "d_e4SpZRfY7p",
        "colab_type": "text"
      },
      "source": [
        "Feature 2: How many people survived based on sex?"
      ]
    },
    {
      "cell_type": "code",
      "metadata": {
        "id": "qIetfu2AZfCJ",
        "colab_type": "code",
        "outputId": "85c29534-f6c3-4172-81f4-0d58daee930c",
        "colab": {
          "base_uri": "https://localhost:8080/",
          "height": 69
        }
      },
      "source": [
        "print( train_data[['Sex','Survived']].groupby([\"Sex\"], as_index=False).mean())"
      ],
      "execution_count": 0,
      "outputs": [
        {
          "output_type": "stream",
          "text": [
            "      Sex  Survived\n",
            "0  female  0.742038\n",
            "1    male  0.188908\n"
          ],
          "name": "stdout"
        }
      ]
    },
    {
      "cell_type": "markdown",
      "metadata": {
        "id": "U774Eq0TkeNr",
        "colab_type": "text"
      },
      "source": [
        "Feature 3: Did family size play a role in survival? SibSp + Parch + 1"
      ]
    },
    {
      "cell_type": "code",
      "metadata": {
        "id": "sCoF4dfkffce",
        "colab_type": "code",
        "outputId": "be45fd9c-5fbc-4804-a5b1-67ad893a062b",
        "colab": {
          "base_uri": "https://localhost:8080/",
          "height": 190
        }
      },
      "source": [
        "for data in all_data:\n",
        "  data['family_size'] = data['SibSp'] + data['Parch'] + 1\n",
        "print( train_data[['family_size', 'Survived']].groupby([\"family_size\"], as_index=False).mean())"
      ],
      "execution_count": 0,
      "outputs": [
        {
          "output_type": "stream",
          "text": [
            "   family_size  Survived\n",
            "0            1  0.303538\n",
            "1            2  0.552795\n",
            "2            3  0.578431\n",
            "3            4  0.724138\n",
            "4            5  0.200000\n",
            "5            6  0.136364\n",
            "6            7  0.333333\n",
            "7            8  0.000000\n",
            "8           11  0.000000\n"
          ],
          "name": "stdout"
        }
      ]
    },
    {
      "cell_type": "markdown",
      "metadata": {
        "id": "1wgKzfISlHA3",
        "colab_type": "text"
      },
      "source": [
        "From above hypothesis, we can conclude that families of size 4 had the most chance of survival."
      ]
    },
    {
      "cell_type": "markdown",
      "metadata": {
        "id": "hn2EVaAjlYW6",
        "colab_type": "text"
      },
      "source": [
        "Feature 4: Did survival depend on whether a passenger was alone or not?"
      ]
    },
    {
      "cell_type": "code",
      "metadata": {
        "id": "y2lH3xwrlDam",
        "colab_type": "code",
        "outputId": "b0c0bae3-7a15-4e5c-ae43-6f74109e1df9",
        "colab": {
          "base_uri": "https://localhost:8080/",
          "height": 69
        }
      },
      "source": [
        "for data in all_data:\n",
        "  data['is_alone'] = 0\n",
        "  data.loc[data['family_size'] == 1, 'is_alone'] = 1\n",
        "print( train_data[['is_alone', 'Survived']].groupby([\"is_alone\"], as_index=False).mean())"
      ],
      "execution_count": 0,
      "outputs": [
        {
          "output_type": "stream",
          "text": [
            "   is_alone  Survived\n",
            "0         0  0.505650\n",
            "1         1  0.303538\n"
          ],
          "name": "stdout"
        }
      ]
    },
    {
      "cell_type": "markdown",
      "metadata": {
        "id": "F_iOtERfmh2A",
        "colab_type": "text"
      },
      "source": [
        "Feature 5: Does place of embarkation play a role in survival? Data contains some NA fields. We fill those fields with value 'S' since it is the most occurring value."
      ]
    },
    {
      "cell_type": "code",
      "metadata": {
        "id": "bXsAcXAjmFzI",
        "colab_type": "code",
        "outputId": "5660ec19-5fdd-4336-c41a-a88515e63e60",
        "colab": {
          "base_uri": "https://localhost:8080/",
          "height": 86
        }
      },
      "source": [
        "for data in all_data:\n",
        "  data['Embarked'] = data['Embarked'].fillna('S')\n",
        "print( train_data[['Embarked', 'Survived']].groupby([\"Embarked\"], as_index=False).mean())"
      ],
      "execution_count": 0,
      "outputs": [
        {
          "output_type": "stream",
          "text": [
            "  Embarked  Survived\n",
            "0        C  0.553571\n",
            "1        Q  0.389610\n",
            "2        S  0.339009\n"
          ],
          "name": "stdout"
        }
      ]
    },
    {
      "cell_type": "markdown",
      "metadata": {
        "id": "8nl-4csKoX5E",
        "colab_type": "text"
      },
      "source": [
        "Feature 6: Did fare play a role in survival? Column contains some NA values. Filling those values by the median of all values and when we cut using qcut, the bins will be chosen so that there are same number of records in each bin (equal parts)."
      ]
    },
    {
      "cell_type": "code",
      "metadata": {
        "id": "CHHVO1iBm8iG",
        "colab_type": "code",
        "outputId": "cc8124c4-66f3-4c83-ad92-7b92e19246a3",
        "colab": {
          "base_uri": "https://localhost:8080/",
          "height": 104
        }
      },
      "source": [
        "for data in all_data:\n",
        "  data['Fare'] = data['Fare'].fillna(data['Fare'].median())\n",
        "train_data['category_fare'] = pd.qcut(train_data['Fare'], 4)\n",
        "print( train_data[['category_fare', 'Survived']].groupby([\"category_fare\"], as_index=False).mean())"
      ],
      "execution_count": 0,
      "outputs": [
        {
          "output_type": "stream",
          "text": [
            "     category_fare  Survived\n",
            "0   (-0.001, 7.91]  0.197309\n",
            "1   (7.91, 14.454]  0.303571\n",
            "2   (14.454, 31.0]  0.454955\n",
            "3  (31.0, 512.329]  0.581081\n"
          ],
          "name": "stdout"
        }
      ]
    },
    {
      "cell_type": "markdown",
      "metadata": {
        "id": "Q6sAQhOZqmYj",
        "colab_type": "text"
      },
      "source": [
        "Feature 6: Did age play a role in survival?"
      ]
    },
    {
      "cell_type": "code",
      "metadata": {
        "id": "hhoMP2Mqp-Jz",
        "colab_type": "code",
        "outputId": "e449989a-6aae-4077-f555-8a149544b645",
        "colab": {
          "base_uri": "https://localhost:8080/",
          "height": 35
        }
      },
      "source": [
        "data['Age'].isnull().values.any()"
      ],
      "execution_count": 0,
      "outputs": [
        {
          "output_type": "execute_result",
          "data": {
            "text/plain": [
              "True"
            ]
          },
          "metadata": {
            "tags": []
          },
          "execution_count": 124
        }
      ]
    },
    {
      "cell_type": "markdown",
      "metadata": {
        "id": "tezZzRSyq57c",
        "colab_type": "text"
      },
      "source": [
        "Since age column contains some NA values, we will fill it with some random numbers between (average age - average std deviation) amd (average age + average std deviation). After that, we will group it in 5."
      ]
    },
    {
      "cell_type": "code",
      "metadata": {
        "id": "E74jDdBtqG0F",
        "colab_type": "code",
        "outputId": "6987bac6-14a9-4a21-953a-d48de79753a6",
        "colab": {
          "base_uri": "https://localhost:8080/",
          "height": 227
        }
      },
      "source": [
        "import numpy as np\n",
        "\n",
        "for data in all_data:\n",
        "  age_mean = data['Age'].mean()\n",
        "  age_std = data['Age'].std()\n",
        "  age_null = data['Age'].isnull().sum()\n",
        "\n",
        "  random_age_list = np.random.randint(age_mean - age_std, age_mean + age_std, size=age_null)\n",
        "  data['Age'][np.isnan(data['Age'])] = random_age_list\n",
        "  data['Age'] = data['Age'].astype(int)\n",
        "\n",
        "train_data['category_age'] = pd.cut(train_data['Age'], 5)\n",
        "print( train_data[['category_age', 'Survived']].groupby([\"category_age\"], as_index=False).mean())"
      ],
      "execution_count": 0,
      "outputs": [
        {
          "output_type": "stream",
          "text": [
            "    category_age  Survived\n",
            "0  (-0.08, 16.0]  0.530435\n",
            "1   (16.0, 32.0]  0.354120\n",
            "2   (32.0, 48.0]  0.368421\n",
            "3   (48.0, 64.0]  0.434783\n",
            "4   (64.0, 80.0]  0.090909\n"
          ],
          "name": "stdout"
        },
        {
          "output_type": "stream",
          "text": [
            "/usr/local/lib/python3.6/dist-packages/ipykernel_launcher.py:9: SettingWithCopyWarning: \n",
            "A value is trying to be set on a copy of a slice from a DataFrame\n",
            "\n",
            "See the caveats in the documentation: http://pandas.pydata.org/pandas-docs/stable/user_guide/indexing.html#returning-a-view-versus-a-copy\n",
            "  if __name__ == '__main__':\n"
          ],
          "name": "stderr"
        }
      ]
    },
    {
      "cell_type": "markdown",
      "metadata": {
        "id": "-zZhTC94uE7c",
        "colab_type": "text"
      },
      "source": [
        "Feature 7: Did survival depend on the name of the passengers? Need to separate out the titles for this one using regular expressions."
      ]
    },
    {
      "cell_type": "code",
      "metadata": {
        "id": "sSpytieLu94K",
        "colab_type": "code",
        "outputId": "bd26d600-5676-4552-9a59-be0c7b7bad23",
        "colab": {
          "base_uri": "https://localhost:8080/",
          "height": 121
        }
      },
      "source": [
        "data['Name'][:5]"
      ],
      "execution_count": 0,
      "outputs": [
        {
          "output_type": "execute_result",
          "data": {
            "text/plain": [
              "0                                Kelly, Mr. James\n",
              "1                Wilkes, Mrs. James (Ellen Needs)\n",
              "2                       Myles, Mr. Thomas Francis\n",
              "3                                Wirz, Mr. Albert\n",
              "4    Hirvonen, Mrs. Alexander (Helga E Lindqvist)\n",
              "Name: Name, dtype: object"
            ]
          },
          "metadata": {
            "tags": []
          },
          "execution_count": 126
        }
      ]
    },
    {
      "cell_type": "code",
      "metadata": {
        "id": "zVHUeg6bt4LE",
        "colab_type": "code",
        "outputId": "d6e819f8-7ca9-4413-e1a9-f22f24c9d8dd",
        "colab": {
          "base_uri": "https://localhost:8080/",
          "height": 259
        }
      },
      "source": [
        "import regex as re\n",
        "\n",
        "def get_title(name):\n",
        "  title_search = re.search(' ([A-Za-z]+)\\. ', name)\n",
        "  if title_search:\n",
        "    return title_search.group(1)\n",
        "  return \"\"\n",
        "\n",
        "for data in all_data:\n",
        "  data['titles'] = data['Name'].apply(get_title)\n",
        "\n",
        "for data in all_data:\n",
        "  data['titles'] = data['titles'].replace(['Lady', 'Countess', 'Capt', 'Col', 'Don', 'Dr', 'Major', 'Rev', 'Sir', 'Jonkheer', 'Dona'], 'Rare')\n",
        "  data['titles'] = data['titles'].replace('Mlle', 'Miss')\n",
        "  data['titles'] = data['titles'].replace('Mme', 'Mrs')\n",
        "  data['titles'] = data['titles'].replace('Ms', 'Miss')\n",
        "\n",
        "print( pd.crosstab(train_data['titles'], train_data['Sex']))\n",
        "print('-------------------------------------')\n",
        "print( train_data[['titles', 'Survived']].groupby([\"titles\"], as_index=False).mean())"
      ],
      "execution_count": 0,
      "outputs": [
        {
          "output_type": "stream",
          "text": [
            "Sex     female  male\n",
            "titles              \n",
            "Master       0    40\n",
            "Miss       185     0\n",
            "Mr           0   517\n",
            "Mrs        126     0\n",
            "Rare         3    20\n",
            "-------------------------------------\n",
            "   titles  Survived\n",
            "0  Master  0.575000\n",
            "1    Miss  0.702703\n",
            "2      Mr  0.156673\n",
            "3     Mrs  0.793651\n",
            "4    Rare  0.347826\n"
          ],
          "name": "stdout"
        }
      ]
    },
    {
      "cell_type": "markdown",
      "metadata": {
        "id": "3-Y6FTeCyFu4",
        "colab_type": "text"
      },
      "source": [
        "Feature engineering complete!"
      ]
    },
    {
      "cell_type": "markdown",
      "metadata": {
        "id": "2KwABmayyL3P",
        "colab_type": "text"
      },
      "source": [
        "Mapping begins!"
      ]
    },
    {
      "cell_type": "code",
      "metadata": {
        "id": "jsOB7umvxw8j",
        "colab_type": "code",
        "outputId": "36f0df9e-9f8b-47c0-9be9-c158ee18c574",
        "colab": {
          "base_uri": "https://localhost:8080/",
          "height": 207
        }
      },
      "source": [
        "# Map Data\n",
        "for data in all_data:\n",
        "\n",
        "  # Mapping Sex\n",
        "  sex_map = {'female':0, 'male':1}\n",
        "  data['Sex'] = data['Sex'].map(sex_map).astype(int)\n",
        "\n",
        "  #Mapping Titles\n",
        "  titles_map = {'Mr':1, 'Miss': 2, 'Mrs': 3, 'Master': 4, 'Rare': 5}\n",
        "  data['titles'] = data['titles'].map(titles_map)\n",
        "  data['titles'] = data['titles'].fillna(0)\n",
        "\n",
        "  #Mapping Embarked\n",
        "  embark_map = {'S': 0, 'C': 1, 'Q': 2}\n",
        "  data['Embarked'] = data['Embarked'].map(embark_map).astype(int)\n",
        "\n",
        "  #Mapping Fare\n",
        "  data.loc[ data['Fare'] <= 7.91, 'Fare']                             = 0\n",
        "  data.loc[(data['Fare'] > 7.91) & (data['Fare'] <= 14.454), 'Fare']  = 1\n",
        "  data.loc[(data['Fare'] > 14.454) & (data['Fare'] <= 31), 'Fare']    = 2\n",
        "  data.loc[ data['Fare'] > 31, 'Fare']                                = 3\n",
        "  data['Fare'] = data['Fare'].astype(int)\n",
        "\n",
        "  #Mapping Age\n",
        "  data.loc[ data['Age'] <= 16, 'Age']                       = 0\n",
        "  data.loc[(data['Age'] > 16) & (data['Age'] <= 32), 'Age'] = 1\n",
        "  data.loc[(data['Age'] > 32) & (data['Age'] <= 48), 'Age'] = 2\n",
        "  data.loc[(data['Age'] > 48) & (data['Age'] <= 64), 'Age'] = 3\n",
        "  data.loc[ data['Age'] > 64, 'Age']                        = 4\n",
        "\n",
        "#Feature Selection\n",
        "#Create a list of columns to drop\n",
        "drop_elements = [\"Name\", \"Ticket\", \"Cabin\", \"SibSp\", \"Parch\", \"family_size\"]\n",
        "\n",
        "#Drop columns from both sets\n",
        "train_data = train_data.drop(drop_elements, axis=1)\n",
        "train_data = train_data.drop(['PassengerId', 'category_fare', 'category_age'], axis = 1)\n",
        "test_data = test_data.drop(drop_elements, axis=1)\n",
        "\n",
        "#Print ready to use data\n",
        "print(train_data.head(10))"
      ],
      "execution_count": 0,
      "outputs": [
        {
          "output_type": "stream",
          "text": [
            "   Survived  Pclass  Sex  Age  Fare  Embarked  is_alone  titles\n",
            "0         0       3    1    1     0         0         0       1\n",
            "1         1       1    0    2     3         1         0       3\n",
            "2         1       3    0    1     1         0         1       2\n",
            "3         1       1    0    2     3         0         0       3\n",
            "4         0       3    1    2     1         0         1       1\n",
            "5         0       3    1    1     1         2         1       1\n",
            "6         0       1    1    3     3         0         1       1\n",
            "7         0       3    1    0     2         0         0       4\n",
            "8         1       3    0    1     1         0         0       3\n",
            "9         1       2    0    0     2         1         0       3\n"
          ],
          "name": "stdout"
        }
      ]
    },
    {
      "cell_type": "markdown",
      "metadata": {
        "id": "L2DOma4X5DtD",
        "colab_type": "text"
      },
      "source": [
        "Step 4: Prediction"
      ]
    },
    {
      "cell_type": "code",
      "metadata": {
        "id": "3Ez4-dhn2dt_",
        "colab_type": "code",
        "colab": {}
      },
      "source": [
        "#Prediction\n",
        "#Train and test data\n",
        "\n",
        "X_train = train_data.drop(\"Survived\", axis=1)\n",
        "Y_train = train_data[\"Survived\"]\n",
        "X_test = test_data.drop(\"PassengerId\", axis=1).copy()"
      ],
      "execution_count": 0,
      "outputs": []
    },
    {
      "cell_type": "markdown",
      "metadata": {
        "id": "C7sKv1Br5pcg",
        "colab_type": "text"
      },
      "source": [
        "Now, we call the classifier!"
      ]
    },
    {
      "cell_type": "code",
      "metadata": {
        "id": "J611A0RB5s9f",
        "colab_type": "code",
        "outputId": "7cd00cd9-e591-4f80-8bb4-e01aff8c22c1",
        "colab": {
          "base_uri": "https://localhost:8080/",
          "height": 35
        }
      },
      "source": [
        "#Running the classifier\n",
        "from sklearn.tree import DecisionTreeClassifier\n",
        "\n",
        "decision_tree = DecisionTreeClassifier()\n",
        "decision_tree.fit(X_train, Y_train)\n",
        "\n",
        "Y_pred = decision_tree.predict(X_test)\n",
        "accuracy = round(decision_tree.score(X_train, Y_train) * 100, 2)\n",
        "\n",
        "print('Model accuracy: ', accuracy)"
      ],
      "execution_count": 0,
      "outputs": [
        {
          "output_type": "stream",
          "text": [
            "Model accuracy:  87.21\n"
          ],
          "name": "stdout"
        }
      ]
    },
    {
      "cell_type": "markdown",
      "metadata": {
        "id": "Si4BoTTH6w-s",
        "colab_type": "text"
      },
      "source": [
        "Create CSV with results for submission."
      ]
    },
    {
      "cell_type": "code",
      "metadata": {
        "id": "wkwRd1V06dYt",
        "colab_type": "code",
        "colab": {}
      },
      "source": [
        "submission = pd.DataFrame({\n",
        "    \"PassengerId\": test_data['PassengerId'],\n",
        "    \"Survived\": Y_pred\n",
        "})\n",
        "\n",
        "submission.to_csv('submission.csv', index=False)"
      ],
      "execution_count": 0,
      "outputs": []
    },
    {
      "cell_type": "markdown",
      "metadata": {
        "id": "MlclRQLf7LY3",
        "colab_type": "text"
      },
      "source": [
        "Fin!"
      ]
    }
  ]
}